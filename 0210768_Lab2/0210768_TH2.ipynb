{
 "cells": [
  {
   "cell_type": "code",
   "execution_count": 23,
   "id": "b33a6ce6",
   "metadata": {},
   "outputs": [],
   "source": [
    "import pandas as pd\n",
    "from sklearn.model_selection import train_test_split, cross_val_score\n",
    "from sklearn.compose import ColumnTransformer\n",
    "from sklearn.pipeline import Pipeline\n",
    "from sklearn.preprocessing import StandardScaler, OneHotEncoder\n",
    "from sklearn.impute import SimpleImputer\n",
    "from sklearn.linear_model import LogisticRegression\n"
   ]
  },
  {
   "cell_type": "code",
   "execution_count": 24,
   "id": "03a2d25a",
   "metadata": {},
   "outputs": [],
   "source": [
    "train_df = pd.read_csv(\"train_no_header.csv\", header=None)\n",
    "test_df = pd.read_csv(\"test_feature_no_header.csv\", header=None)\n",
    "\n",
    "#Giả sử cột cuối cùng trong train là nhãn (label)\n",
    "X = train_df.iloc[:, :-1]\n",
    "y = train_df.iloc[:, -1]\n",
    "X_test = test_df.copy()\n",
    "\n",
    "#2. Xác định cột số và cột phân loại \n",
    "num_cols = X.select_dtypes(include=['int64', 'float64']).columns\n",
    "cat_cols = X.select_dtypes(include=['object']).columns"
   ]
  },
  {
   "cell_type": "code",
   "execution_count": 25,
   "id": "eb763359",
   "metadata": {},
   "outputs": [],
   "source": [
    "num_pipeline = Pipeline([\n",
    "    ('imputer', SimpleImputer(strategy='mean')),       # điền giá trị thiếu bằng trung bình\n",
    "    ('scaler', StandardScaler())                       # chuẩn hoá\n",
    "])\n",
    "\n",
    "cat_pipeline = Pipeline([\n",
    "    ('imputer', SimpleImputer(strategy='most_frequent')),  # điền giá trị thiếu bằng mode\n",
    "    ('encoder', OneHotEncoder(handle_unknown='ignore'))    # mã hoá one-hot\n",
    "])\n",
    "\n",
    "preprocessor = ColumnTransformer([\n",
    "    ('num', num_pipeline, num_cols),\n",
    "    ('cat', cat_pipeline, cat_cols)\n",
    "])"
   ]
  },
  {
   "cell_type": "code",
   "execution_count": 26,
   "id": "a2215044",
   "metadata": {},
   "outputs": [],
   "source": [
    "X_train_prepared = preprocessor.fit_transform(X)\n",
    "X_test_prepared = preprocessor.transform(X_test)\n"
   ]
  },
  {
   "cell_type": "code",
   "execution_count": 27,
   "id": "1aff7817",
   "metadata": {},
   "outputs": [
    {
     "name": "stdout",
     "output_type": "stream",
     "text": [
      "F1 trung bình (cross-validation): 0.8539949767604018\n",
      " Đã huấn luyện xong Logistic Regression!\n"
     ]
    }
   ],
   "source": [
    "log_reg = LogisticRegression(max_iter=1000, random_state=42)\n",
    "scores = cross_val_score(log_reg, X_train_prepared, y, cv=5, scoring='f1')\n",
    "print(\"F1 trung bình (cross-validation):\", scores.mean())\n",
    "\n",
    "log_reg.fit(X_train_prepared, y)\n",
    "print(\" Đã huấn luyện xong Logistic Regression!\")"
   ]
  },
  {
   "cell_type": "code",
   "execution_count": 28,
   "id": "8eada29d",
   "metadata": {},
   "outputs": [],
   "source": [
    "y_pred = log_reg.predict(X_test_prepared)\n"
   ]
  },
  {
   "cell_type": "code",
   "execution_count": 32,
   "id": "da35a790",
   "metadata": {},
   "outputs": [
    {
     "name": "stdout",
     "output_type": "stream",
     "text": [
      " Đã lưu kết quả vào file: 0210768_NguyenTatManh_68CS2_submission.csv\n"
     ]
    }
   ],
   "source": [
    "submission = pd.DataFrame({\n",
    "    'label': y_pred\n",
    "})\n",
    "submission.to_csv(\"0210768_NguyenTatManh_68CS2_submission.csv\", index=False)\n",
    "print(\" Đã lưu kết quả vào file: 0210768_NguyenTatManh_68CS2_submission.csv\")"
   ]
  }
 ],
 "metadata": {
  "kernelspec": {
   "display_name": "base",
   "language": "python",
   "name": "python3"
  },
  "language_info": {
   "codemirror_mode": {
    "name": "ipython",
    "version": 3
   },
   "file_extension": ".py",
   "mimetype": "text/x-python",
   "name": "python",
   "nbconvert_exporter": "python",
   "pygments_lexer": "ipython3",
   "version": "3.13.5"
  }
 },
 "nbformat": 4,
 "nbformat_minor": 5
}
